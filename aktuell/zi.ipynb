{
 "cells": [
  {
   "cell_type": "code",
   "execution_count": null,
   "metadata": {
    "scrolled": true
   },
   "outputs": [],
   "source": [
    "%pylab inline\n",
    "import numpy as np\n",
    "import matplotlib.pyplot as plt\n",
    "import functions.et1 as dc"
   ]
  },
  {
   "cell_type": "markdown",
   "metadata": {},
   "source": [
    "# Zeigerinversion"
   ]
  },
  {
   "cell_type": "code",
   "execution_count": null,
   "metadata": {
    "scrolled": false
   },
   "outputs": [],
   "source": [
    "limits=[-50,200,-125,125]\n",
    "radius=50\n",
    "z1 = complex(25,0)\n",
    "z2 = complex(0,25)\n",
    "z1, z2 = dc.test_numbers(radius, z1, z2)\n",
    "md = [z1, z2]\n",
    "plt.figure(figsize=(10,10))\n",
    "rsum, isum, hl, hw = dc.plot_sum_cplx_number(data=md, limits=limits, radius=radius)"
   ]
  },
  {
   "cell_type": "code",
   "execution_count": null,
   "metadata": {
    "scrolled": false
   },
   "outputs": [],
   "source": [
    "md = [z1, z2]\n",
    "plt.figure(figsize=(10,10))\n",
    "rsum, isum, hl, hw = dc.plot_sum_cplx_number(data=md, limits=limits, radius=radius)\n",
    "md = [complex(rsum, isum)]\n",
    "dc.plot_invers(hl, hw, data=md, limits=limits)"
   ]
  },
  {
   "cell_type": "code",
   "execution_count": null,
   "metadata": {
    "scrolled": false
   },
   "outputs": [],
   "source": [
    "plt.figure(figsize=(10,10))\n",
    "md = [z1, z2]\n",
    "rsum, isum, hl, hw = dc.plot_sum_cplx_number(data=md, limits=limits, radius=radius)\n",
    "md = [complex(rsum, isum)]\n",
    "dc.plot_invers(hl, hw, data=md, limits=limits)\n",
    "if np.abs(complex(rsum, isum)) < radius:\n",
    "    m, n = dc.plot_hline(data=md, limits=limits)\n",
    "else:\n",
    "    print(md)\n",
    "    xt1, yt1, xt2, yt2 = dc.plot_tangente_first(data=md, radius = radius, limits=limits)"
   ]
  },
  {
   "cell_type": "code",
   "execution_count": null,
   "metadata": {
    "scrolled": false
   },
   "outputs": [],
   "source": [
    "plt.figure(figsize=(10,10))\n",
    "md = [z1, z2]\n",
    "rsum, isum, hl, hw = dc.plot_sum_cplx_number(data=md, limits=limits, radius=radius)\n",
    "md = [complex(rsum, isum)]\n",
    "dc.plot_invers(hl, hw, data=md, limits=limits)\n",
    "if np.abs(complex(rsum, isum)) < radius:\n",
    "    m, n = dc.plot_hline(data=md, limits=limits)\n",
    "    mt, nt = dc.plot_tangente(m, n, radius = radius, limits=limits)\n",
    "else:\n",
    "    xt1, yt1, xt2, yt2 = dc.plot_tangente_first(data=md, radius = radius, limits=limits)\n",
    "    m = (yt1 - yt2)/(xt1 - xt2)\n",
    "    n = yt1 - m * xt1\n",
    "    dc.plot_hline_second(m, n, limits=limits)"
   ]
  },
  {
   "cell_type": "code",
   "execution_count": null,
   "metadata": {
    "scrolled": false
   },
   "outputs": [],
   "source": [
    "plt.figure(figsize=(10,10))\n",
    "md = [z1, z2]\n",
    "rsum, isum, hl, hw = dc.plot_sum_cplx_number(data=md, limits=limits, radius=radius)\n",
    "md = [complex(rsum, isum)]\n",
    "dc.plot_invers(hl, hw, data=md, limits=limits)\n",
    "if np.abs(complex(rsum, isum)) < radius:\n",
    "    m, n = dc.plot_hline(data=md, limits=limits)\n",
    "    mt, nt = dc.plot_tangente(m, n, radius = radius, limits=limits)\n",
    "    dc.plot_result(mt, nt, hl, hw, data=md)\n",
    "else:\n",
    "    xt1, yt1, xt2, yt2 = dc.plot_tangente_first(data=md, radius = radius, limits=limits)\n",
    "    m = (yt1 - yt2)/(xt1 - xt2)\n",
    "    n = yt1 - m * xt1\n",
    "    dc.plot_hline_second(m, n, limits=limits)\n",
    "    dc.plot_result(m, n, hl, hw, data=md)"
   ]
  },
  {
   "cell_type": "code",
   "execution_count": null,
   "metadata": {
    "collapsed": true,
    "scrolled": true
   },
   "outputs": [],
   "source": []
  }
 ],
 "metadata": {
  "kernelspec": {
   "display_name": "Python 3",
   "language": "python",
   "name": "python3"
  },
  "language_info": {
   "codemirror_mode": {
    "name": "ipython",
    "version": 3
   },
   "file_extension": ".py",
   "mimetype": "text/x-python",
   "name": "python",
   "nbconvert_exporter": "python",
   "pygments_lexer": "ipython3",
   "version": "3.6.3"
  }
 },
 "nbformat": 4,
 "nbformat_minor": 1
}
