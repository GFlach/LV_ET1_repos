{
 "cells": [
  {
   "cell_type": "markdown",
   "metadata": {},
   "source": [
    "[Inhaltsverzeichnis](table_of_contents.ipynb)"
   ]
  },
  {
   "cell_type": "markdown",
   "metadata": {},
   "source": [
    "## Aufgaben ET1\n",
    "\n",
    "### Grundlagen"
   ]
  },
  {
   "cell_type": "markdown",
   "metadata": {},
   "source": [
    "#### Aufgabe 1.1 \n",
    "\n",
    "Schreiben Sie das Definitionsgesetz für die elektrische Energie $W = U⋅I⋅ t$ als\n",
    "zugeschnittene Größengleichung, wenn $U$ in $kV$, $I$ in $μA$ und $t$ in $h$\n",
    "vorgegeben werden und die erzeugte Wärmemenge $W$ in  $kJ$ gefordert ist."
   ]
  },
  {
   "cell_type": "markdown",
   "metadata": {},
   "source": [
    "#### Lösung\n",
    "\n",
    "$\\left[\\frac{W}{J}\\right]=\\left[\\frac{U}{V}\\right]\\left[\\frac{I}{A}\\right]\\left[\\frac{t}{s}\\right]$\n",
    "\n",
    "$\\left[\\frac{W}{10^{-3}kJ}\\right]=\\left[\\frac{U}{10^{-3}kV}\\right]\\left[\\frac{I}{10^{6}\\mu A}\\right]\\left[\\frac{t}{\\frac{1}{3600}h}\\right]$\n",
    "\n",
    "$\\frac{1}{10^{-3}}\\left[\\frac{W}{kJ}\\right]=\\frac{1}{10^{-3}}\\frac{1}{10^{6}}3600\\left[\\frac{U}{kV}\\right]\\left[\\frac{I}{\\mu A}\\right]\\left[\\frac{t}{h}\\right]$\n",
    "\n",
    "$\\left[\\frac{W}{kJ}\\right]=3,6\\cdot10^{-3}\\left[\\frac{U}{kV}\\right]\\left[\\frac{I}{\\mu A}\\right]\\left[\\frac{t}{h}\\right]$"
   ]
  },
  {
   "cell_type": "markdown",
   "metadata": {},
   "source": [
    "#### Aufgabe 1.2 \n",
    "Wie lautet die zugeschnittene Größengleichung der Widerstandsbemessungsgleichung $R=\\frac{\\rho\\cdot l}{A}=\\frac{l}{\\kappa\\cdot A}$\n",
    " \n",
    "a) für $R$ in $\\varOmega$ mit $\\rho$ in $\\frac{m\\varOmega\\cdot mm^{2}}{m}$ , $l$ in $km$ und  $A$ in $mm^{2}$\n",
    "\n",
    "b) für $R$ in $m\\varOmega$ mit $\\kappa$ in $\\frac{S}{m}$, $l$ in $mm$ und  $A$ in $cm^{2}$\n"
   ]
  },
  {
   "cell_type": "markdown",
   "metadata": {},
   "source": [
    "#### Lösung\n",
    "a)\n",
    "$\\left[\\frac{R}{\\varOmega}\\right]=\\frac{\\left[\\frac{\\rho}{\\varOmega\\cdot mm^{2}\\cdot m^{-1}}\\right]\\left[\\frac{l}{m}\\right]}{\\left[\\frac{A}{mm^{2}}\\right]}$\n",
    "\n",
    "$\\left[\\frac{R}{\\varOmega}\\right]=\\frac{\\left[\\frac{\\rho}{10^{3}m\\varOmega\\cdot mm^{2}\\cdot m^{-1}}\\right]\\left[\\frac{l}{10^{-3}km}\\right]}{\\left[\\frac{A}{mm^{2}}\\right]}$\n",
    "\n",
    "$\\left[\\frac{R}{\\varOmega}\\right]=\\frac{\\frac{1}{10^{3}}\\frac{1}{10^{-3}}\\left[\\frac{\\rho}{m\\varOmega\\cdot mm^{2}\\cdot m^{-1}}\\right]\\left[\\frac{l}{km}\\right]}{\\left[\\frac{A}{mm^{2}}\\right]}$\n",
    "\n",
    "$\\left[\\frac{R}{\\varOmega}\\right]=\\frac{\\left[\\frac{\\rho}{m\\varOmega\\cdot mm^{2}\\cdot m^{-1}}\\right]\\left[\\frac{l}{km}\\right]}{\\left[\\frac{A}{mm^{2}}\\right]}$\n",
    "\n",
    "b)\n",
    "$\\left[\\frac{R}{\\varOmega}\\right]=\\frac{\\left[\\frac{l}{m}\\right]}{\\left[\\frac{\\kappa}{S\\cdot m^{-1}}\\right]\\left[\\frac{A}{m^{2}}\\right]}$\n",
    "\n",
    "$\\left[\\frac{R}{10^{3}m\\varOmega}\\right]=\\frac{\\left[\\frac{l}{10^{3}mm}\\right]}{\\left[\\frac{\\kappa}{S\\cdot m^{-1}}\\right]\\left[\\frac{A}{10^{4}cm^{2}}\\right]}$\n",
    "\n",
    "$\\frac{1}{10^{3}}\\left[\\frac{R}{m\\varOmega}\\right]=\\frac{\\frac{1}{10^{3}}\\left[\\frac{l}{mm}\\right]}{\\frac{1}{10^{4}}\\left[\\frac{\\kappa}{S\\cdot m^{-1}}\\right]\\left[\\frac{A}{cm^{2}}\\right]}$\n",
    "\n",
    "$\\left[\\frac{R}{m\\varOmega}\\right]=10^{4}\\frac{\\left[\\frac{l}{mm}\\right]}{\\left[\\frac{\\kappa}{S\\cdot m^{-1}}\\right]\\left[\\frac{A}{cm^{2}}\\right]}$"
   ]
  },
  {
   "cell_type": "markdown",
   "metadata": {},
   "source": [
    "#### Aufgabe 1.3 \n",
    "\n",
    "Die Thomsonsche Schwingungsgleichung \n",
    "\n",
    "$f = \\frac{1}{2\\pi \\sqrt{LC}}$ \n",
    "\n",
    "ist so als zugeschnittene Größengleichung darzustellen, dass man die\n",
    "Frequenz $f$ in $MHz$ erhält, wenn man die Kapazität $C$ in $nF$ und die Induktivität\n",
    "$L$ in $\\mu H$ einsetzt.\n"
   ]
  },
  {
   "cell_type": "markdown",
   "metadata": {},
   "source": [
    "#### Lösung\n",
    "\n",
    "$\\left[\\frac{f}{Hz}\\right]=\\frac{1}{2\\pi\\sqrt{\\left[\\frac{C}{F}\\right]\\left[\\frac{L}{H}\\right]}}$\n",
    "\n",
    "$\\left[\\frac{f}{10^{-6}MHz}\\right]=\\frac{1}{2\\pi\\sqrt{\\left[\\frac{C}{10^{-9}nF}\\right]\\left[\\frac{L}{10^{-6}\\mu H}\\right]}}$\n",
    "\n",
    "$\\frac{1}{10^{-6}}\\left[\\frac{f}{MHz}\\right]=\\frac{1}{2\\pi\\sqrt{\\frac{1}{10^{-15}}\\left[\\frac{C}{nF}\\right]\\left[\\frac{L}{\\mu H}\\right]}}$\n",
    "\n",
    "$\\frac{1}{10^{-6}}\\left[\\frac{f}{MHz}\\right]=\\frac{1}{2\\pi\\frac{1}{10^{7}}\\sqrt{\\frac{1}{10}\\left[\\frac{C}{nF}\\right]\\left[\\frac{L}{\\mu H}\\right]}}$\n",
    "\n",
    "$\\frac{1}{10^{-6}}\\left[\\frac{f}{MHz}\\right]=10^{7}\\frac{1}{2\\pi\\sqrt{0.1}\\sqrt{\\left[\\frac{C}{nF}\\right]\\left[\\frac{L}{\\mu H}\\right]}}$\n",
    "\n",
    "$\\left[\\frac{f}{MHz}\\right]=5.03\\frac{1}{\\sqrt{\\left[\\frac{C}{nF}\\right]\\left[\\frac{L}{\\mu H}\\right]}}$\n"
   ]
  },
  {
   "cell_type": "markdown",
   "metadata": {},
   "source": [
    "#### Aufgabe 1.4 \n",
    "Eine Gerade schneidet die x-Achse bei $x_{0} = 6$ und die y-Achse bei $y_{0} = 4$.\n",
    "\n",
    "Geben Sie die Geradengleichung in der Form $y = f(x)$ und $x = f(y)$ an.\n"
   ]
  },
  {
   "cell_type": "markdown",
   "metadata": {},
   "source": [
    "#### Lösung\n",
    "\n",
    "$y = mx + n$\n",
    "\n",
    "$0 = mx_{0} + n$\n",
    "\n",
    "$y_{0} = m \\cdot 0 + n$\n",
    "\n",
    "$n = 4$\n",
    "\n",
    "$m = \\frac{-4}{6} = -\\frac{2}{3}$\n",
    "\n",
    "$y = -\\frac{2}{3}x + 4$\n",
    "\n",
    "$x = -\\frac{3}{2}y + 6$"
   ]
  },
  {
   "cell_type": "markdown",
   "metadata": {},
   "source": [
    "#### Aufgabe 1.5 \n",
    "\n",
    "Eine Gerade ist gegeben durch die Wertepaare $(x_{1}, y_{1}) = (2, 3)$ und $(x_{2}, y_{2}) =\n",
    "(6, 5)$. \n",
    "\n",
    "a) Zeichnen Sie die Gerade für $-6 \\leq x \\leq 6 $ und geben Sie die Geradengleichung in der Form $y = f(x)$ und $x = f(y)$ an. \n",
    "\n",
    "b) Berechnen Sie die Schnittpunkte mit den Achsen."
   ]
  },
  {
   "cell_type": "markdown",
   "metadata": {
    "collapsed": true
   },
   "source": [
    "#### Lösung"
   ]
  },
  {
   "cell_type": "markdown",
   "metadata": {
    "collapsed": true
   },
   "source": [
    "### Elektrische Grundgrößen"
   ]
  },
  {
   "cell_type": "markdown",
   "metadata": {},
   "source": [
    "#### Aufgabe 2.1 \n",
    "\n",
    "Ein Gleichstrom von 4 mA fließt 1.5 min lang. Wie groß ist die transportierte\n",
    "Ladungsmenge?"
   ]
  },
  {
   "cell_type": "markdown",
   "metadata": {
    "collapsed": true
   },
   "source": [
    "#### Lösung"
   ]
  },
  {
   "cell_type": "code",
   "execution_count": null,
   "metadata": {
    "collapsed": true
   },
   "outputs": [],
   "source": []
  }
 ],
 "metadata": {
  "kernelspec": {
   "display_name": "Python 3",
   "language": "python",
   "name": "python3"
  },
  "language_info": {
   "codemirror_mode": {
    "name": "ipython",
    "version": 3
   },
   "file_extension": ".py",
   "mimetype": "text/x-python",
   "name": "python",
   "nbconvert_exporter": "python",
   "pygments_lexer": "ipython3",
   "version": "3.6.3"
  }
 },
 "nbformat": 4,
 "nbformat_minor": 1
}
