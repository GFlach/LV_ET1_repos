{
 "cells": [
  {
   "cell_type": "code",
   "execution_count": null,
   "metadata": {},
   "outputs": [],
   "source": [
    "import numpy as np\n",
    "import matplotlib.pyplot as plt\n",
    "%pylab inline"
   ]
  },
  {
   "cell_type": "markdown",
   "metadata": {},
   "source": [
    "### Gleichrichtung"
   ]
  },
  {
   "cell_type": "code",
   "execution_count": null,
   "metadata": {},
   "outputs": [],
   "source": [
    "t = np. linspace(-2,2,1000)\n",
    "u = 10 * np.cos(2*np.pi*t)\n",
    "R = 2\n",
    "i = u/R\n",
    "fig = plt.figure(figsize=(10,5))\n",
    "plt.plot(t,u, label='u(t) in V', lw=2)\n",
    "plt.grid()\n",
    "plt.title('Spannungsquelle', size=16)\n",
    "legend(bbox_to_anchor=(1.05, 1), loc=2, borderaxespad=0., fontsize=20)\n",
    "plt.xlabel('t in s', fontsize=20)\n",
    "plt.ylabel('$u_{in}$', fontsize=20)\n",
    "plt.plot([0, 0], [-11, 11], 'k-')\n",
    "plt.plot([-2, 2], [0, 0], 'k-')"
   ]
  },
  {
   "cell_type": "code",
   "execution_count": null,
   "metadata": {},
   "outputs": [],
   "source": [
    "t = np. linspace(-2,2,1000)\n",
    "u = 10 * np.cos(2*np.pi*t)\n",
    "R = 2\n",
    "i = u/R\n",
    "i[where(i<0)] = 0\n",
    "fig = plt.figure(figsize=(10,5))\n",
    "plt.plot(t,i, label='i(t) in A', lw=2)\n",
    "plt.grid()\n",
    "plt.title('Strom', size=16)\n",
    "legend(bbox_to_anchor=(1.05, 1), loc=2, borderaxespad=0., fontsize=20)\n",
    "plt.xlabel('t in s', fontsize=20)\n",
    "plt.ylabel('$i$', fontsize=20)\n",
    "plt.plot([0, 0], [-11, 11], 'k-')\n",
    "plt.plot([-2, 2], [0, 0], 'k-')"
   ]
  },
  {
   "cell_type": "code",
   "execution_count": null,
   "metadata": {},
   "outputs": [],
   "source": [
    "t = np. linspace(-2,2,1000)\n",
    "u = 10 * np.cos(2*np.pi*t)\n",
    "R = 2\n",
    "i = u/R\n",
    "i[where(i<0)] = 0\n",
    "fig = plt.figure(figsize=(10,5))\n",
    "plt.plot(t,i*R, label='u(t) in V', lw=2)\n",
    "plt.grid()\n",
    "plt.title('Spannung am Widerstand', size=16)\n",
    "legend(bbox_to_anchor=(1.05, 1), loc=2, borderaxespad=0., fontsize=20)\n",
    "plt.xlabel('t in s', fontsize=20)\n",
    "plt.ylabel('$u_{R}$', fontsize=20)\n",
    "plt.plot([0, 0], [-11, 11], 'k-')\n",
    "plt.plot([-2, 2], [0, 0], 'k-')"
   ]
  },
  {
   "cell_type": "code",
   "execution_count": null,
   "metadata": {},
   "outputs": [],
   "source": [
    "t = np. linspace(-2,2,1000)\n",
    "u = 10 * np.cos(2*np.pi*t)\n",
    "R = 2\n",
    "i = u/R\n",
    "fig = plt.figure(figsize=(10,5))\n",
    "plt.plot(t,np.abs(i), label='i(t) in A', lw=2)\n",
    "plt.grid()\n",
    "plt.title('Strom', size=16)\n",
    "legend(bbox_to_anchor=(1.05, 1), loc=2, borderaxespad=0., fontsize=20)\n",
    "plt.xlabel('t in s', fontsize=20)\n",
    "plt.ylabel('$i$', fontsize=20)\n",
    "plt.plot([0, 0], [-11, 11], 'k-')\n",
    "plt.plot([-2, 2], [0, 0], 'k-')"
   ]
  },
  {
   "cell_type": "code",
   "execution_count": null,
   "metadata": {},
   "outputs": [],
   "source": [
    "t = np. linspace(-2,2,1000)\n",
    "u = 10 * np.cos(2*np.pi*t)\n",
    "R = 2\n",
    "i = u/R\n",
    "fig = plt.figure(figsize=(10,5))\n",
    "plt.plot(t,np.abs(i*R), label='u(t) in V', lw=2)\n",
    "plt.grid()\n",
    "plt.title('Spannung am Widerstand', size=16)\n",
    "legend(bbox_to_anchor=(1.05, 1), loc=2, borderaxespad=0., fontsize=20)\n",
    "plt.xlabel('t in s', fontsize=20)\n",
    "plt.ylabel('$u_{R}$', fontsize=20)\n",
    "plt.plot([0, 0], [-11, 11], 'k-')\n",
    "plt.plot([-2, 2], [0, 0], 'k-')"
   ]
  },
  {
   "cell_type": "code",
   "execution_count": null,
   "metadata": {
    "collapsed": true
   },
   "outputs": [],
   "source": []
  }
 ],
 "metadata": {
  "kernelspec": {
   "display_name": "Python 3",
   "language": "python",
   "name": "python3"
  },
  "language_info": {
   "codemirror_mode": {
    "name": "ipython",
    "version": 3
   },
   "file_extension": ".py",
   "mimetype": "text/x-python",
   "name": "python",
   "nbconvert_exporter": "python",
   "pygments_lexer": "ipython3",
   "version": "3.6.3"
  }
 },
 "nbformat": 4,
 "nbformat_minor": 1
}
