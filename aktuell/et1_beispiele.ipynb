{
 "cells": [
  {
   "cell_type": "markdown",
   "metadata": {},
   "source": [
    "## Beispiele ET1\n",
    "[Anwendung Grundstromkreis](b1.ipynb)\n",
    "\n",
    "[Leistung im Grundstromkreis](b2.ipynb)\n",
    "\n",
    "[Zeigerinversion](zi.ipynb)\n",
    "\n",
    "[Leistung bei Wechselstrom](b3.ipynb)\n",
    "\n",
    "[Strom und Spannung an R, C und L](b4.ipynb)\n",
    "\n",
    "[Gleichrichtung](b5.ipynb)\n",
    "\n",
    "[Mittelwerte und Faktoren](b6.ipynb)"
   ]
  },
  {
   "cell_type": "code",
   "execution_count": null,
   "metadata": {
    "collapsed": true
   },
   "outputs": [],
   "source": []
  }
 ],
 "metadata": {
  "kernelspec": {
   "display_name": "Python 3",
   "language": "python",
   "name": "python3"
  },
  "language_info": {
   "codemirror_mode": {
    "name": "ipython",
    "version": 3
   },
   "file_extension": ".py",
   "mimetype": "text/x-python",
   "name": "python",
   "nbconvert_exporter": "python",
   "pygments_lexer": "ipython3",
   "version": "3.6.3"
  }
 },
 "nbformat": 4,
 "nbformat_minor": 1
}
