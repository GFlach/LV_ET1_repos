{
 "cells": [
  {
   "cell_type": "code",
   "execution_count": null,
   "metadata": {},
   "outputs": [],
   "source": [
    "import numpy as np\n",
    "import matplotlib.pyplot as plt\n",
    "%pylab inline"
   ]
  },
  {
   "cell_type": "code",
   "execution_count": null,
   "metadata": {
    "collapsed": true
   },
   "outputs": [],
   "source": [
    "def fineprint(X, Y, x_g, y_g, title, xl, yl, name, typ = 'linear'):\n",
    "    plt.figure(figsize=(20,10))\n",
    "    plt.plot(X,Y, ls='', marker='.', color='b')\n",
    "    plt.axis(x_g + y_g)\n",
    "    plt.grid()\n",
    "    plt.title(title, fontsize=20)\n",
    "    plt.xlabel(xl, fontsize=16)\n",
    "    plt.ylabel(yl, fontsize=16)\n",
    "    plt.xticks(fontsize=14)\n",
    "    plt.yticks(fontsize=14)\n",
    "    if typ == 'log':\n",
    "        plt.xscale('log')\n",
    "    plt.savefig(name)\n",
    "    plt.show()"
   ]
  },
  {
   "cell_type": "markdown",
   "metadata": {
    "collapsed": true
   },
   "source": [
    "## Protokoll Versuch Grundstromkreis"
   ]
  },
  {
   "cell_type": "markdown",
   "metadata": {},
   "source": [
    "### Aufgabe 1\n",
    "Nehmen Sie nach der gegebenen Schaltung die Strom-Spannungs-Kennlinie des aktiven Zweipols auf und bestimmen Sie aus dieser die Kenngrößen $U_{q}$, $I_{k}$ und $R_{i}$.\n",
    "<img src=\"grundstromkreis1.JPG\" height=\"200\" width=\"300\"/>"
   ]
  },
  {
   "cell_type": "markdown",
   "metadata": {},
   "source": [
    "#### Eingabe Messwerte"
   ]
  },
  {
   "cell_type": "code",
   "execution_count": null,
   "metadata": {},
   "outputs": [],
   "source": [
    "U = [1, 2, 3, 5, 6]\n",
    "I = [1, 4, 6, 8, 2]"
   ]
  },
  {
   "cell_type": "markdown",
   "metadata": {},
   "source": [
    "#### Eingabe Darstellungsparameter"
   ]
  },
  {
   "cell_type": "code",
   "execution_count": null,
   "metadata": {
    "collapsed": true
   },
   "outputs": [],
   "source": [
    "U_g = [0, 7]\n",
    "I_g = [0, 9]\n",
    "title = 'Strom-Spannungs-Kennlinie'\n",
    "xl = 'U in V'\n",
    "yl = 'I in A'\n",
    "name = 'images/gs1.jpg'"
   ]
  },
  {
   "cell_type": "code",
   "execution_count": null,
   "metadata": {},
   "outputs": [],
   "source": [
    "fineprint(U, I, U_g, I_g, title, xl, yl, name)"
   ]
  },
  {
   "cell_type": "markdown",
   "metadata": {},
   "source": [
    "### Aufgabe 2\n",
    "Messen Sie nach der gegebenen Schaltung $I$ und $U$ in Abhängigkeit vom Widerstand $R_{a}$ und stellen Sie die Kennlinien in normierter Form\n",
    "\n",
    "$$\n",
    "\\frac{U}{U_{l}} \\text{und}  \\frac{I}{I_{k}} = f\\left(\\frac{R_{a}}{R_{i}}\\right)\n",
    "$$\n",
    "\n",
    "sowohl mit linearem als auch mit einfach-logarithmischem (Ordinate linear dargestellt) Achsenmaßstab dar! (Wählen Sie $R_{a}$ = (0,25; 0,5; 1; 2; 4; 16) * $R_{i}$!)\n",
    "<img src=\"images/grundstromkreis2.jpg\" height=\"200\" width=\"300\">"
   ]
  },
  {
   "cell_type": "markdown",
   "metadata": {},
   "source": [
    "#### Eingabe Messwerte"
   ]
  },
  {
   "cell_type": "code",
   "execution_count": null,
   "metadata": {},
   "outputs": [],
   "source": [
    "I = [1,2,3,4,5,6,7]\n",
    "U = []\n",
    "x = [0.25, 0.5, 1, 2, 4, 8, 16]"
   ]
  },
  {
   "cell_type": "markdown",
   "metadata": {},
   "source": [
    "#### Eingabe Darstellungsparameter"
   ]
  },
  {
   "cell_type": "code",
   "execution_count": null,
   "metadata": {
    "collapsed": true
   },
   "outputs": [],
   "source": [
    "x_g = [0, 17]\n",
    "I_g = [0, 7]\n",
    "U_g = [0, 9]\n",
    "title = '$U = f(R_{a})$ - linear'\n",
    "xl = '$R_{a}/R_{i}$'\n",
    "yl = 'I in A'\n",
    "name = 'images/gs2.jpg'"
   ]
  },
  {
   "cell_type": "code",
   "execution_count": null,
   "metadata": {
    "scrolled": false
   },
   "outputs": [],
   "source": [
    "fineprint(x, I, x_g, I_g, title, xl, yl, name)"
   ]
  },
  {
   "cell_type": "code",
   "execution_count": null,
   "metadata": {
    "scrolled": false
   },
   "outputs": [],
   "source": [
    "x_g = [0.1, 17]\n",
    "title = '$U = f(R_{a})$ - logarithmisch'\n",
    "name = 'images/gs3.jpg'\n",
    "fineprint(x, I, x_g, I_g, title, xl, yl, name, typ='log')"
   ]
  },
  {
   "cell_type": "markdown",
   "metadata": {},
   "source": [
    "### Aufgabe 3\n",
    "Berechnen Sie aus den Messwerten für $I$, $U$, $I_{k}$ und $U_{l}$ die normierten Leistungskurven (bezogen auf die Leistung  $P_{k} = I_{k}^{2} \\cdot R_{i}$):\n",
    "\n",
    "$\\frac{P_{a}}{P_{k}}$ ;\t$\\frac{P_{i}}{P_{k}}$ ;  $\\frac{P_{ges}}{P_{k}}$ in Abhängigkeit von  $\\frac{R_{a}}{R_{i}}$\n",
    "\n",
    "und stellen Sie diese graphisch dar.\n"
   ]
  },
  {
   "cell_type": "markdown",
   "metadata": {},
   "source": [
    "#### Eingabe Messwerte"
   ]
  },
  {
   "cell_type": "markdown",
   "metadata": {},
   "source": [
    "#### Eingabe Darstellungsparameter"
   ]
  },
  {
   "cell_type": "markdown",
   "metadata": {},
   "source": [
    "Welche maximale Leistung kann der untersuchte aktive Zweipol abgeben?"
   ]
  },
  {
   "cell_type": "markdown",
   "metadata": {},
   "source": [
    "### Aufgabe 4\n",
    "Zeichnen Sie das Schaltbild des Netzwerkes am Versuchsplatz ab! Messen Sie mit dem Digitalmultimeter die Einzelwiderstände des Netzwerkes und den Ersatzinnenwiderstand $R_{iers}$ bei überbrückten Quellspannungen!\n",
    "Kontrollieren Sie den gemessenen $R_{iers}$ durch Berechnung aus den Einzelwiderständen!\n",
    "\n",
    "Netzwerk:\n"
   ]
  },
  {
   "cell_type": "markdown",
   "metadata": {},
   "source": [
    "#### Eingabe Messwerte"
   ]
  },
  {
   "cell_type": "markdown",
   "metadata": {},
   "source": [
    "#### Eingabe Darstellungsparameter"
   ]
  },
  {
   "cell_type": "markdown",
   "metadata": {},
   "source": [
    "### Aufgabe 5\n",
    "Messen Sie die Quellspannungen $U_{q}$ aller Spannungsquellen und die Leerlaufspannung $U_{lAB}$  des Netzwerkes!\n",
    "\n",
    "Berechnen Sie nach dem Überlagerungssatz den Zweigstrom $I_{AB}$ im untersuchten Netzwerk!"
   ]
  },
  {
   "cell_type": "markdown",
   "metadata": {},
   "source": [
    "#### Eingabe Messwerte"
   ]
  },
  {
   "cell_type": "markdown",
   "metadata": {},
   "source": [
    "#### Eingabe Darstellungsparameter"
   ]
  },
  {
   "cell_type": "markdown",
   "metadata": {},
   "source": [
    "### Aufgabe 6\n",
    "Überprüfen Sie die Anwendbarkeit des Überlagerungssatzes durch Messung der von den einzelnen Quellspannungen $U_{q}$ hervorgerufenen Teilzweigströme $I_{\\nu AB}$  und des Gesamtzweigstromes $I_{AB}$!\n",
    "\n",
    "Vergleichen Sie die Messergebnisse für die Teilzweigströme und den Gesamtzweigstrom mit den  in Aufgabe 5 errechneten Werten!\n",
    "\n"
   ]
  },
  {
   "cell_type": "markdown",
   "metadata": {},
   "source": [
    "#### Eingabe Messwerte"
   ]
  },
  {
   "cell_type": "markdown",
   "metadata": {},
   "source": [
    "#### Eingabe Darstellungsparameter"
   ]
  },
  {
   "cell_type": "code",
   "execution_count": null,
   "metadata": {
    "collapsed": true
   },
   "outputs": [],
   "source": []
  }
 ],
 "metadata": {
  "kernelspec": {
   "display_name": "Python 3",
   "language": "python",
   "name": "python3"
  },
  "language_info": {
   "codemirror_mode": {
    "name": "ipython",
    "version": 3
   },
   "file_extension": ".py",
   "mimetype": "text/x-python",
   "name": "python",
   "nbconvert_exporter": "python",
   "pygments_lexer": "ipython3",
   "version": "3.6.3"
  }
 },
 "nbformat": 4,
 "nbformat_minor": 1
}
