{
 "cells": [
  {
   "cell_type": "code",
   "execution_count": null,
   "metadata": {},
   "outputs": [],
   "source": [
    "import numpy as np\n",
    "import matplotlib.pyplot as plt\n",
    "%pylab inline"
   ]
  },
  {
   "cell_type": "markdown",
   "metadata": {},
   "source": [
    "### Leistung bei sinusförmiger Erregung\n",
    "\n",
    "$ p(t) = u(t) \\cdot i(t) $\n",
    "\n",
    "Durch die Phasenverschiebung zwischen Strom und Spannung am komplexen Widerstand entstehen positive und negative Leistungsanteile.\n",
    "\n",
    "##### Ohmscher Widerstand\n",
    "Es gibt keine Phasenverschiebung zwischen Strom und Spannung. Die Leistung ist immer positiv."
   ]
  },
  {
   "cell_type": "code",
   "execution_count": null,
   "metadata": {},
   "outputs": [],
   "source": [
    "t = np.linspace(-20,100,5000)\n",
    "null = np.zeros(size(t))\n",
    "u = 2*np.sin(2*np.pi*t/1000*20)\n",
    "i = 1*np.sin(2*np.pi*t/1000*20)\n",
    "p = u * i\n",
    "plt.figure(figsize=(15,5))\n",
    "plt.plot(t,u,'--', label='u(t)')\n",
    "plt.plot(t,i,':',label='i(t)')\n",
    "plt.plot(t,p, label='p(t)')\n",
    "plt.fill_between(t,p,null,facecolor='red')\n",
    "plt.title('Leistung am ohmschen Widerstand')\n",
    "plt.grid()\n",
    "plt.legend()"
   ]
  },
  {
   "cell_type": "markdown",
   "metadata": {},
   "source": [
    "##### Kapazität\n",
    "Die Phasenverschiebung zwischen Spannung und Strom beträgt 90° (Strom eilt vor). Die positiven und negativen Leistungsanteile heben sich auf."
   ]
  },
  {
   "cell_type": "code",
   "execution_count": null,
   "metadata": {},
   "outputs": [],
   "source": [
    "i = 1*np.sin(2*np.pi*t/1000*20+ np.pi/2)\n",
    "p = u * i\n",
    "plt.figure(figsize=(15,5))\n",
    "plt.plot(t,u, '--',label = 'u(t)')\n",
    "plt.plot(t,i,':',label = 'i(t)')\n",
    "plt.plot(t,p,label = 'p(t)')\n",
    "plt.fill_between(t,p,null,facecolor='red')\n",
    "plt.title('Leistung am kapazitiven Blindwiderstand')\n",
    "plt.grid()\n",
    "plt.legend()"
   ]
  },
  {
   "cell_type": "markdown",
   "metadata": {},
   "source": [
    "##### Komplexer Widerstand\n",
    "Die Phasenverschiebung beträgt zwischen -90° und +90°. Es entstehen positive und negative Leistungsanteile, deren Summe nicht null ist."
   ]
  },
  {
   "cell_type": "code",
   "execution_count": null,
   "metadata": {},
   "outputs": [],
   "source": [
    "i = 1*np.sin(2*np.pi*t/1000*20+ np.pi/4)\n",
    "p = u * i\n",
    "plt.figure(figsize=(15,5))\n",
    "plt.plot(t,u, '--',label = 'u(t)')\n",
    "plt.plot(t,i,':',label = 'i(t)')\n",
    "plt.plot(t,p,label = 'p(t)')\n",
    "plt.fill_between(t,p,null,facecolor='red')\n",
    "plt.title('Leistung am komplexen Widerstand')\n",
    "plt.grid()\n",
    "plt.legend()"
   ]
  },
  {
   "cell_type": "markdown",
   "metadata": {},
   "source": [
    "Zur Beschreibung dieser Leistung wird eine Zerlegung in 2 Anteile vorgenommen. Dazu wird der Strom in 2 Anteile zerlegt, wobei ein Teil die gleiche Phasenlage wie die Spannung hat (entspricht einem ohmschen Widerstand) und der andere Teil um +90° bzw. -90° (entspricht einer idealen Kapazität bzw. Induktivität) gegenüber der Spannung verschoben ist."
   ]
  },
  {
   "cell_type": "code",
   "execution_count": null,
   "metadata": {},
   "outputs": [],
   "source": [
    "i_real = np.cos(np.pi/4)*np.sin(2*np.pi*t/1000*20)\n",
    "i_imag = np.sin(np.pi/4)*np.sin(2*np.pi*t/1000*20+ np.pi/2)\n",
    "i = i_real + i_imag\n",
    "plt.figure(figsize=(15,5))\n",
    "plt.plot(t,u,'--', label='u(t)')\n",
    "plt.plot(t,i,'--', label='i(t)')\n",
    "plt.plot(t,i_real, ':k', label='i_anteil1')\n",
    "plt.plot(t,i_imag, ':r', label='i_anteil2')\n",
    "plt.title('Zerlegung des Stromes in 2 Anteile')\n",
    "plt.grid()\n",
    "plt.legend()"
   ]
  },
  {
   "cell_type": "markdown",
   "metadata": {},
   "source": [
    "Werden nun die Produkte aus Spannung und erstem bzw. zweitem Anteil gebildet, erhält man die Wirk- und Blindleistung des Verbrauchers."
   ]
  },
  {
   "cell_type": "code",
   "execution_count": null,
   "metadata": {},
   "outputs": [],
   "source": [
    "p1 = u * i_real\n",
    "p2 = u * i_imag\n",
    "plt.figure(figsize=(15,5))\n",
    "plt.plot(t,u,'--', label='u(t)')\n",
    "plt.plot(t,i,':', label='i(t)')\n",
    "plt.plot(t,i_real, ':k', label='i_anteil1')\n",
    "plt.plot(t,i_imag, ':r', label='i_anteil2')\n",
    "plt.plot(t, p1, label='Wirkleistung')\n",
    "plt.plot(t,p2, 'b', label='Blindleistung')\n",
    "plt.title('Zerlegung der Leistung in 2 Anteile')\n",
    "plt.fill_between(t,p1,null,facecolor='red')\n",
    "plt.fill_between(t,p2,null,facecolor='blue')\n",
    "plt.grid()\n",
    "plt.legend()"
   ]
  },
  {
   "cell_type": "code",
   "execution_count": null,
   "metadata": {
    "collapsed": true
   },
   "outputs": [],
   "source": []
  }
 ],
 "metadata": {
  "kernelspec": {
   "display_name": "Python 3",
   "language": "python",
   "name": "python3"
  },
  "language_info": {
   "codemirror_mode": {
    "name": "ipython",
    "version": 3
   },
   "file_extension": ".py",
   "mimetype": "text/x-python",
   "name": "python",
   "nbconvert_exporter": "python",
   "pygments_lexer": "ipython3",
   "version": "3.6.3"
  }
 },
 "nbformat": 4,
 "nbformat_minor": 1
}
