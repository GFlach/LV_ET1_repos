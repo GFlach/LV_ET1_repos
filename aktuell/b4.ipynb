{
 "cells": [
  {
   "cell_type": "code",
   "execution_count": null,
   "metadata": {},
   "outputs": [],
   "source": [
    "import numpy as np\n",
    "import matplotlib.pyplot as plt\n",
    "%pylab inline"
   ]
  },
  {
   "cell_type": "markdown",
   "metadata": {
    "collapsed": true
   },
   "source": [
    "### Strom und Spannung an R, C und L"
   ]
  },
  {
   "cell_type": "code",
   "execution_count": null,
   "metadata": {},
   "outputs": [],
   "source": [
    "t = np. linspace(-2,2,1000)\n",
    "u = 10 * np.cos(2*np.pi*t)\n",
    "R = 2\n",
    "i = u/R\n",
    "fig = plt.figure(figsize=(12,6))\n",
    "plt.plot(t,u, label='u(t) in V', lw=2)\n",
    "plt.plot(t,i, label='i(t) in A', lw=2)\n",
    "plt.grid()\n",
    "plt.title('Spannung und Strom am Ohmschen Widerstand', size=16)\n",
    "legend(bbox_to_anchor=(1.05, 1), loc=2, borderaxespad=0., fontsize=20)\n",
    "plt.xlabel('t in s', fontsize=20)\n",
    "plt.plot([0, 0], [-10, 10], 'k-')\n",
    "plt.plot([-2, 2], [0, 0], 'k-')"
   ]
  },
  {
   "cell_type": "code",
   "execution_count": null,
   "metadata": {},
   "outputs": [],
   "source": [
    "t = np. linspace(-2,2,1000)\n",
    "u = 10 * np.cos(2*np.pi*t)\n",
    "C = 2\n",
    "i = 10/C*np.cos(2*np.pi*t+np.pi/2)\n",
    "fig = plt.figure(figsize=(12,6))\n",
    "plt.plot(t,u, label='u(t) in V', lw=2)\n",
    "plt.plot(t,i, label='i(t) in A', lw=2)\n",
    "plt.grid()\n",
    "plt.title('Spannung und Strom am Kondensator', size=16)\n",
    "legend(bbox_to_anchor=(1.05, 1), loc=2, borderaxespad=0., fontsize=20)\n",
    "plt.xlabel('t in s', fontsize=20)\n",
    "plt.plot([0, 0], [-10, 10], 'k-')\n",
    "plt.plot([-2, 2], [0, 0], 'k-')"
   ]
  },
  {
   "cell_type": "code",
   "execution_count": null,
   "metadata": {},
   "outputs": [],
   "source": [
    "t = np. linspace(-2,2,1000)\n",
    "u = 10 * np.cos(2*np.pi*t)\n",
    "L = 2\n",
    "i = 10/L*np.cos(2*np.pi*t-np.pi/2)\n",
    "fig = plt.figure(figsize=(12,6))\n",
    "plt.plot(t,u, label='u(t) in V', lw=2)\n",
    "plt.plot(t,i, label='i(t) in A', lw=2)\n",
    "plt.grid()\n",
    "plt.title('Spannung und Strom an der Spule', size=16)\n",
    "legend(bbox_to_anchor=(1.05, 1), loc=2, borderaxespad=0., fontsize=20)\n",
    "plt.xlabel('t in s', fontsize=20)\n",
    "plt.plot([0, 0], [-10, 10], 'k-')\n",
    "plt.plot([-2, 2], [0, 0], 'k-')"
   ]
  },
  {
   "cell_type": "code",
   "execution_count": null,
   "metadata": {
    "collapsed": true
   },
   "outputs": [],
   "source": []
  }
 ],
 "metadata": {
  "kernelspec": {
   "display_name": "Python 3",
   "language": "python",
   "name": "python3"
  },
  "language_info": {
   "codemirror_mode": {
    "name": "ipython",
    "version": 3
   },
   "file_extension": ".py",
   "mimetype": "text/x-python",
   "name": "python",
   "nbconvert_exporter": "python",
   "pygments_lexer": "ipython3",
   "version": "3.6.3"
  }
 },
 "nbformat": 4,
 "nbformat_minor": 1
}
