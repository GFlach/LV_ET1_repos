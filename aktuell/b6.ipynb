{
 "cells": [
  {
   "cell_type": "code",
   "execution_count": null,
   "metadata": {},
   "outputs": [],
   "source": [
    "import numpy as np\n",
    "import matplotlib.pyplot as plt\n",
    "%pylab inline"
   ]
  },
  {
   "cell_type": "markdown",
   "metadata": {},
   "source": [
    "### Mittelwerte und Faktoren"
   ]
  },
  {
   "cell_type": "code",
   "execution_count": null,
   "metadata": {
    "collapsed": true
   },
   "outputs": [],
   "source": [
    "amplitude = 1\n",
    "signal = 'Dreieck'"
   ]
  },
  {
   "cell_type": "code",
   "execution_count": null,
   "metadata": {},
   "outputs": [],
   "source": [
    "t = np. linspace(-0.5,0.5,1000)\n",
    "if signal == 'Cosinus':\n",
    "    u = amplitude * np.cos(2*np.pi*t)\n",
    "if signal == 'Sinus':\n",
    "    u = amplitude * np.sin(2*np.pi*t)\n",
    "if signal == 'Saege':\n",
    "    u = 2 * amplitude * t\n",
    "if signal == 'Dreieck':\n",
    "        u1 = 4 * amplitude * t[0:499] + 1\n",
    "        u2 = -4 * amplitude * t[499:1000] + 1\n",
    "        u = np.append(u1,u2)\n",
    "fig = plt.figure(figsize=(10,5))\n",
    "plt.plot(t,u, label='Original')\n",
    "plt.plot(t,abs(u), label='Betrag')\n",
    "plt.plot(t,u*u, label='Quadrat')\n",
    "plt.grid()\n",
    "plt.legend()\n",
    "plt.title(signal, size=16)\n",
    "plt.xlabel('t in s', fontsize=20)\n",
    "plt.ylabel('$u$', fontsize=20)\n",
    "plt.plot([0, 0], [-amplitude, amplitude], 'k-')\n",
    "plt.plot([-0.5, 0.5], [0, 0], 'k-')\n",
    "mw = np.round(sum(u)/len(u), 2)\n",
    "grw = np.round(sum(abs(u))/len(u), 2)\n",
    "eff = np.round(np.sqrt(sum(u*u)/len(u)), 2)\n",
    "print('Mittelwert: ' + str(mw) + '\\n' + 'Gleichrichtwert: ' + str(grw) + '\\n' + 'Effektivwert: ' + str(eff) + '\\n')\n",
    "s = np.round(amplitude/eff, 2)\n",
    "f = np.round(eff/grw, 2)\n",
    "print('Scheitelfaktor: ' + str(s) + '\\n' + 'Formfaktor: ' + str(f) + '\\n' )\n"
   ]
  },
  {
   "cell_type": "code",
   "execution_count": null,
   "metadata": {
    "collapsed": true
   },
   "outputs": [],
   "source": []
  }
 ],
 "metadata": {
  "kernelspec": {
   "display_name": "Python 3",
   "language": "python",
   "name": "python3"
  },
  "language_info": {
   "codemirror_mode": {
    "name": "ipython",
    "version": 3
   },
   "file_extension": ".py",
   "mimetype": "text/x-python",
   "name": "python",
   "nbconvert_exporter": "python",
   "pygments_lexer": "ipython3",
   "version": "3.6.3"
  }
 },
 "nbformat": 4,
 "nbformat_minor": 1
}
