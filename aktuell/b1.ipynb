{
 "cells": [
  {
   "cell_type": "code",
   "execution_count": null,
   "metadata": {},
   "outputs": [],
   "source": [
    "import numpy as np\n",
    "import matplotlib.pyplot as plt\n",
    "%pylab inline"
   ]
  },
  {
   "cell_type": "code",
   "execution_count": null,
   "metadata": {
    "collapsed": true
   },
   "outputs": [],
   "source": [
    "def var_u1(u, uq = []):\n",
    "    for uin in uq:\n",
    "        ik = uin/1\n",
    "        azp_kl = -ik/uin*u + ik\n",
    "        index = np.where(azp_kl < 0)\n",
    "        og = 1000\n",
    "        if len(index[0]) != 0:\n",
    "            og = index[0][0]\n",
    "        plt.plot(u[0:og], azp_kl[0:og], label='U1 = ' + str(uin) + ' V' )\n",
    "        plt.legend()\n",
    "    return(azp_kl)"
   ]
  },
  {
   "cell_type": "markdown",
   "metadata": {},
   "source": [
    "### Anwendung Grundstromkreis\n",
    "\n",
    "Gegeben ist folgende Schaltung.\n",
    "\n",
    "<img src=\"images/beispiel1.jpg\" height=\"200\" width = \"400\">\n",
    "\n",
    "Der enthaltene nichtlineare Widerstand wird durch 2 Geradenabschnitte modelliert."
   ]
  },
  {
   "cell_type": "markdown",
   "metadata": {},
   "source": [
    "#### <font color=\"#FF0000\">Eingabe Grenzspannung, Anstiege</font>"
   ]
  },
  {
   "cell_type": "code",
   "execution_count": null,
   "metadata": {
    "collapsed": true
   },
   "outputs": [],
   "source": [
    "ug = 3     # Grenzspannung\n",
    "a0 = 2     # Anstieg Gebiet 1\n",
    "a1 = 4/7   # Anstieg Gebiet 2"
   ]
  },
  {
   "cell_type": "code",
   "execution_count": null,
   "metadata": {},
   "outputs": [],
   "source": [
    "u0 = np.linspace(0,ug, ug*100)\n",
    "u1 = np.linspace(ug, 10, (10-ug)*100)\n",
    "i0 = a0 * u0\n",
    "i1 = a1 * u1 + max(i0) - ug * a1\n",
    "u = np.append(u0, u1)\n",
    "i = np.append(i0,i1)\n",
    "plt.plot(u, i)\n",
    "plt.grid()\n",
    "plt.title('Kennlinie des nichtlinearen Widerstandes')\n",
    "plt.xlabel('U in V')\n",
    "plt.ylabel('I in mA')\n",
    "plt.show()"
   ]
  },
  {
   "cell_type": "markdown",
   "metadata": {},
   "source": [
    "Die Spannung $U_{2}$ für $U_{1} = 5 V$ ist zu ermitteln. Dazu werden die Spannung(squelle) $U_{1}$ und die linearen Widerstände $R_{1}$ und $R_{2}$ zu einem aktiven Zweipol mit den Parametern $U_{q} = U_{1} = 5 V$ und $R_{i} = R_{1} + R_{2} = 1000\\Omega$ zusammengefasst, an den der nichtlineare Widerstand als Verbraucher angeschlossen wird."
   ]
  },
  {
   "cell_type": "markdown",
   "metadata": {},
   "source": [
    "#### <font color=\"#FF0000\">Eingabe $U_{1}$</font>"
   ]
  },
  {
   "cell_type": "code",
   "execution_count": null,
   "metadata": {
    "collapsed": true
   },
   "outputs": [],
   "source": [
    "uin = 5"
   ]
  },
  {
   "cell_type": "code",
   "execution_count": null,
   "metadata": {},
   "outputs": [],
   "source": [
    "u0 = np.linspace(0,ug, ug*100)\n",
    "u1 = np.linspace(ug, 10, (10-ug)*100)\n",
    "i0 = a0 * u0\n",
    "i1 = a1 * u1 + max(i0) - ug * a1\n",
    "u = np.append(u0, u1)\n",
    "i = np.append(i0,i1)\n",
    "plt.plot(u, i)\n",
    "plt.grid()\n",
    "plt.title('Kennlinien des nichtlinearen Widerstandes und des aktiven ZP')\n",
    "plt.xlabel('U in V')\n",
    "plt.ylabel('I in mA')\n",
    "uq = [uin]\n",
    "azp_kl = var_u1(u, uq = uq)\n",
    "ap = np.where(i > azp_kl)\n",
    "plt.plot([0,ap[0][0]/100], [np.round(i[ap[0][0]],2), np.round(i[ap[0][0]],2)], '--')\n",
    "plt.show()\n",
    "iap = i[ap[0][0]]\n",
    "print('Strom im Arbeitspunkt: I_AP = ' + str(np.round(iap,2)) + ' mA\\n')"
   ]
  },
  {
   "cell_type": "code",
   "execution_count": null,
   "metadata": {},
   "outputs": [],
   "source": [
    "uL = iap * 0.5\n",
    "print('Spannung an R2: U2 = ' + str(np.round(uL,2)) + ' V\\n')"
   ]
  },
  {
   "cell_type": "markdown",
   "metadata": {},
   "source": [
    "#### Darstellung $U_{2} = f(U_{1})$\n",
    "\n",
    "Für den durch die obige Kennlinie beschriebenen nichtlinearen Widerstand ist der Verlauf $U_{2} = f(U_{1})$\n",
    "gesucht. Dazu werden zunächst einige Kennlinien für unterschiedliche Spannungen $U_{1}$ dargestellt."
   ]
  },
  {
   "cell_type": "code",
   "execution_count": null,
   "metadata": {},
   "outputs": [],
   "source": [
    "u0 = np.linspace(0,ug, ug*100)\n",
    "u1 = np.linspace(ug, 10, (10-ug)*100)\n",
    "i0 = a0 * u0\n",
    "i1 = a1 * u1 + max(i0) - ug * a1\n",
    "u = np.append(u0, u1)\n",
    "i = np.append(i0,i1)\n",
    "plt.plot(u, i)\n",
    "plt.grid()\n",
    "plt.title('Kennlinien des nichtlinearen Widerstandes und des aktiven ZP')\n",
    "plt.xlabel('U in V')\n",
    "plt.ylabel('I in mA')\n",
    "uq = [5,9,12]\n",
    "azp_kl = var_u1(u, uq = uq)\n",
    "ap = np.where(i > azp_kl)\n",
    "plt.plot([0,ap[0][0]/100], [np.round(i[ap[0][0]],2), np.round(i[ap[0][0]],2)], '--')\n",
    "plt.show()\n",
    "iap = i[ap[0][0]]\n",
    "print('Strom für U1 = 12 V: I = ' + str(np.round(iap,2)) + ' mA\\n')"
   ]
  },
  {
   "cell_type": "markdown",
   "metadata": {},
   "source": [
    "Der Verlauf der Spannung $U_{2} = f(U_{1})$ ist linear mit unterschiedlichem Anstieg in den zwei Kennlinienbereichen des nichtlinearen Widerstandes. Die Kennlinie für $U_{1} = 9 V$ verläuft durch den Knickpunkt der Kennlinie des nichtlinearen Widerstandes, d. h. dort ändert sich der Anstieg der gesuchten Kennlinie.\n",
    "\n",
    "- Für $U_{1} = 0 V$ fließt kein Strom, somit ist $U_{2} = 0 V$\n",
    "- Für $U_{1} = 9 V$ fließt ein Strom von $6 mA$. Damit erhalten wir $U_{2} = 6 mA \\cdot 500 \\Omega = 3 V$\n",
    "- Für $U_{1} = 12 V$ fließt ein Strom von $7,06 mA$. Damit erhalten wir $U_{2} = 7,06 mA \\cdot 500 \\Omega = 3,35 V$"
   ]
  },
  {
   "cell_type": "code",
   "execution_count": null,
   "metadata": {},
   "outputs": [],
   "source": [
    "plt.plot([0,9],[0,3],'b')\n",
    "plt.plot([9,12],[3,3.35],'b')\n",
    "plt.grid()\n",
    "plt.title('Kennlinie $U_{2} = f(U_{1})$')\n",
    "plt.xlabel('$U_{1}$ in V')\n",
    "plt.ylabel('$U_{2}$ in V')\n",
    "plt.show()"
   ]
  },
  {
   "cell_type": "markdown",
   "metadata": {},
   "source": [
    "#### Ersatzschaltung für die Kennlinienbereiche\n",
    "\n",
    "Für den ersten Bereich kann der nichtlineare Widerstand durch einen ohmschen Widerstand ersetzt werden. Der Widerstandswert ist der Kehrwert des Anstieges der Kennlinie im ersten Bereich:\n",
    "\n",
    "$R_{ers} = \\frac{\\Delta U}{\\Delta I} = \\frac{3 V}{6 mA} = 500\\Omega$\n",
    "\n",
    "Für den zweiten Bereich wird der zweite Teil der Kennlinie betrachtet und auf den gesamten Bereich erweitert."
   ]
  },
  {
   "cell_type": "code",
   "execution_count": null,
   "metadata": {},
   "outputs": [],
   "source": [
    "u0 = np.linspace(0,10, 1000)\n",
    "i0 = 4/7 * u0 + 30/7\n",
    "plt.plot(u0, i0)\n",
    "plt.grid()\n",
    "plt.title('Kennlinie Abschnitt 2 des nichtlinearen Widerstandes')\n",
    "plt.xlabel('U in V')\n",
    "plt.ylabel('I in mA')\n",
    "plt.axis([0,10,0,10])\n",
    "plt.show()"
   ]
  },
  {
   "cell_type": "code",
   "execution_count": null,
   "metadata": {},
   "outputs": [],
   "source": [
    "plt.plot([0, 10], [30/7, 30/7], label='ideale Stromquelle')\n",
    "plt.plot([0, 10], [0, 40/7], label='ohmscher Widerstand')\n",
    "plt.grid()\n",
    "plt.title('Aufteilung der Kennlinie')\n",
    "plt.xlabel('U in V')\n",
    "plt.ylabel('I in mA')\n",
    "plt.axis([0,10,0,10])\n",
    "plt. legend()\n",
    "plt.show()"
   ]
  },
  {
   "cell_type": "markdown",
   "metadata": {},
   "source": [
    "Der nichtlineare Widerstand wird damit durch eine Parallelschaltung einer idealen Stromquelle mit\n",
    "\n",
    "$I_{K} = 4,28 mA$\n",
    "\n",
    "und einen Leitwert\n",
    "\n",
    "$G = \\frac{5,7 mA}{10 V} = 0,57 mS$\n",
    "\n",
    "beschrieben."
   ]
  },
  {
   "cell_type": "code",
   "execution_count": null,
   "metadata": {
    "collapsed": true
   },
   "outputs": [],
   "source": []
  }
 ],
 "metadata": {
  "kernelspec": {
   "display_name": "Python 3",
   "language": "python",
   "name": "python3"
  },
  "language_info": {
   "codemirror_mode": {
    "name": "ipython",
    "version": 3
   },
   "file_extension": ".py",
   "mimetype": "text/x-python",
   "name": "python",
   "nbconvert_exporter": "python",
   "pygments_lexer": "ipython3",
   "version": "3.6.3"
  }
 },
 "nbformat": 4,
 "nbformat_minor": 1
}
