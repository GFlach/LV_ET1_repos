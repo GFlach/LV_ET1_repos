{
 "cells": [
  {
   "cell_type": "code",
   "execution_count": null,
   "metadata": {},
   "outputs": [],
   "source": [
    "import numpy as np\n",
    "import matplotlib.pyplot as plt\n",
    "%pylab inline"
   ]
  },
  {
   "cell_type": "markdown",
   "metadata": {
    "collapsed": true
   },
   "source": [
    "### Bodediagramm"
   ]
  },
  {
   "cell_type": "code",
   "execution_count": null,
   "metadata": {},
   "outputs": [],
   "source": [
    "Omega = np.arange(0.1, 1000, 0.1)\n",
    "Q = 1.25\n",
    "F1 = 20 * np.log(np.sqrt(1+ Omega**2*Q**2))\n",
    "F2 = 20 * np.log(1/Omega)\n",
    "F3 = 20 * np.log(1/(np.sqrt((1/Omega - Omega)**2 + 1/Q**2)))\n",
    "plt.plot(np.log(Omega), F1)\n",
    "plt.plot(np.log(Omega), F2)\n",
    "plt.plot(np.log(Omega), F3)\n",
    "plt.plot(np.log(Omega), F1 + F2 + F3)"
   ]
  },
  {
   "cell_type": "code",
   "execution_count": null,
   "metadata": {},
   "outputs": [],
   "source": [
    "F1 = 20 * np.log(np.sqrt(1+ Omega**2*Q**2))\n",
    "plt.plot(np.log(Omega), F1)"
   ]
  },
  {
   "cell_type": "code",
   "execution_count": null,
   "metadata": {},
   "outputs": [],
   "source": [
    "F2 = 20 * np.log(1/Omega)\n",
    "plt.plot(np.log(Omega), F2)"
   ]
  },
  {
   "cell_type": "code",
   "execution_count": null,
   "metadata": {},
   "outputs": [],
   "source": [
    "F3 = 20 * np.log(1/(np.sqrt((1/Omega - Omega)**2 + 1/Q**2)))\n",
    "plt.plot(np.log(Omega), F3)"
   ]
  }
 ],
 "metadata": {
  "kernelspec": {
   "display_name": "Python 3",
   "language": "python",
   "name": "python3"
  },
  "language_info": {
   "codemirror_mode": {
    "name": "ipython",
    "version": 3
   },
   "file_extension": ".py",
   "mimetype": "text/x-python",
   "name": "python",
   "nbconvert_exporter": "python",
   "pygments_lexer": "ipython3",
   "version": "3.7.3"
  }
 },
 "nbformat": 4,
 "nbformat_minor": 1
}
